{
  "cells": [
    {
      "cell_type": "markdown",
      "metadata": {
        "id": "view-in-github",
        "colab_type": "text"
      },
      "source": [
        "<a href=\"https://colab.research.google.com/github/eroberam/03MIAR---Algoritmos-de-Optimizacion/blob/main/SEMINARIO_Roberto_Alcaraz_Machado.ipynb\" target=\"_parent\"><img src=\"https://colab.research.google.com/assets/colab-badge.svg\" alt=\"Open In Colab\"/></a>"
      ]
    },
    {
      "cell_type": "markdown",
      "metadata": {
        "id": "hVbXYX-RfPWh"
      },
      "source": [
        "# Algoritmos de optimización - Seminario<br>\n",
        "Nombre y Apellidos: Roberto Alcaraz Machado   <br>\n",
        "Link:https://colab.research.google.com/github/eroberam/03MIAR---Algoritmos-de-Optimizacion/blob/main/SEMINARIO_Roberto_Alcaraz_Machado.ipynb <br>\n",
        "Url: https://github.com/eroberam/03MIAR---Algoritmos-de-Optimizacion<br>\n",
        "Problema:\n",
        ">3. Combinar cifras y operaciones                                      "
      ]
    },
    {
      "cell_type": "markdown",
      "metadata": {
        "id": "MLI4AZJDxFS4"
      },
      "source": [
        "### Descripción del problema\n",
        "\n",
        "El problema consiste en analizar el siguiente problema y diseñar un algoritmo que lo resuelva.\n",
        "\n",
        "Disponemos de las 9 cifras del 1 al 9 (excluimos el cero) y de los 4 operadoros básicos de las operaciones fundamentales: suma(+), resta(-), multiplicación(*) y división(/)\n",
        "\n",
        "Debemos combinarlos alternativamente sin repetir ninguno de ellos para obtener una cantidad dada.\n",
        "\n",
        "Un ejemplo sería para obtener el 4: 4+2-6/3*1 = 4\n",
        "\n",
        "Debe analizarse el problema para encontrar todos los valores enteros posibles planteando las siguientes cuestiones:\n",
        "\n",
        "- ¿Qué valor máximo y mínimo se pueden obtener según las condiciones del problema?\n",
        "- ¿Es posible encontrar todos los valores enteros posibles entre dicho mínimo y máximo?\n",
        "\n",
        "Nota: Es posible usar la función de python “eval” para evaluar una expresión:"
      ]
    },
    {
      "cell_type": "markdown",
      "metadata": {
        "id": "rL12vlBixFS4"
      },
      "source": [
        "### (*)¿Cuántas posibilidades hay sin tener en cuenta las restricciones?<br>"
      ]
    },
    {
      "cell_type": "markdown",
      "metadata": {
        "id": "tBfH-9L2xFS4"
      },
      "source": [
        "Sin tener en cuenta las reestricciones, el cálculo es el siguiente:\n",
        "1. Se tienen nueve números y la posibilidad de usar cinco de ellos. Por tanto, la operación sería 9^5.\n",
        "2. Se tienen cuatro operadoros y la posibilidad de usar los cuatro. Por tanto, la operación sería 4^4.\n",
        "\n",
        "Operando los números: (9^5) = 59.049 posibilidades.\n",
        "\n",
        "Operando los operadoros: (4^4) = 256 posibilidades.\n",
        "\n",
        "<b>El resultado sería: (59.049) * (256) = 15.116,544 posibilidades.</b>"
      ]
    },
    {
      "cell_type": "markdown",
      "metadata": {
        "id": "3_-exlrTgLd-"
      },
      "source": [
        "### ¿Cuántas posibilidades hay teniendo en cuenta todas las restricciones?"
      ]
    },
    {
      "cell_type": "markdown",
      "metadata": {
        "id": "WfCUqJyKhPcw"
      },
      "source": [
        "Teniendo en cuenta las reestricciones:\n",
        "1. No se pueden repetir operadores\n",
        "2. No se pueden repetir números\n",
        "\n",
        "En este caso, al seleccionar un valor, se elimina esa posibilidad del conjunto. Por tanto, al poder tomar únicamente cinco números, la operación sería 9! / (9 - 5)!, o, lo que es lo mismo, 9! / 4!\n",
        "\n",
        "En este caso, pese a que se elimina un operador del conjunto de operadoros, al tomar los cuatro, la operacion sería 4!\n",
        "\n",
        "Operando los números: (9! / 4!) = 15.120\n",
        "\n",
        "Operando los operadoros: (4!) = 24\n",
        "\n",
        "<b>El resultado sería: (15.120) * (24) = 362.880</b>"
      ]
    },
    {
      "cell_type": "markdown",
      "metadata": {
        "id": "dzynfVJahHoY"
      },
      "source": [
        "### Modelo para el espacio de soluciones<br>\n",
        "\n",
        "### (*)¿Cual es la estructura de datos que mejor se adapta al problema? Arguméntalo. (Es posible que hayas elegido una al principio y veas la necesidad de cambiar, arguméntalo)\n"
      ]
    },
    {
      "cell_type": "markdown",
      "metadata": {
        "id": "xFIJrOwKi2Ti"
      },
      "source": [
        "En mi caso, la mejor estructura que he sido capaz de hallar ha sido inicializar dos listas; una para números, y, otra con los operadoros con el fin de realizar permutaciones para combiarlos y evaluar mi función objetivo.\n",
        "\n",
        "Mi idea, fue combinar las permutaciones de números (1, 2, 3, 4, 5), (1, 3, 4, 2, 9), ... con las permutaciones de los operadores ('* ', '/', '-', '+'), ('-', '+', '/', '* '), ... de manera que por iteración se forma una expresión del tipo 3/1+6*9-7\n",
        "\n",
        "Originalmente, mi estructura eran bucles anidados con condicionales en los que comparaba si había seleccionado un número y/o símbolo, y, había formado esa combinación previamente consultando en una lista \"almacen\". Sin embargo, esa solución no era eficiente ni legible. En ese momento, me di cuenta que lo que estaba implementando manualmente no era otra cosa que permutaciones y recurrí a la libreía de itertools (https://docs.python.org/3/library/itertools.html) debido a que me ahorraba programar los condicionales y solo debía preocuparle de la lógica posterior."
      ]
    },
    {
      "cell_type": "markdown",
      "metadata": {
        "id": "7Z9U2W7bi-XS"
      },
      "source": [
        "### Según el modelo para el espacio de soluciones<br>\n",
        "\n",
        "### (*)¿Cual es la función objetivo?\n",
        "\n",
        "En este problema, <b>no tenemos una función objetivo debido</b> a que nuestro problema consiste en hallar una solución específica.\n",
        "\n",
        "### (*)¿Es un problema de maximización o minimización?\n",
        "\n",
        "<b>No es ninguno de los anteriores</b> porque no se trata de búscar un máximo o un mínimo, sino de buscar una expresión."
      ]
    },
    {
      "cell_type": "markdown",
      "metadata": {
        "id": "rlnTYgY1j6I2"
      },
      "source": [
        "### Diseña un algoritmo para resolver el problema por fuerza bruta"
      ]
    },
    {
      "cell_type": "code",
      "execution_count": 33,
      "metadata": {
        "id": "CJb5sQ0qkENy",
        "colab": {
          "base_uri": "https://localhost:8080/"
        },
        "outputId": "d12c3403-ccf2-45a5-d42d-41904cb3f345"
      },
      "outputs": [
        {
          "output_type": "stream",
          "name": "stdout",
          "text": [
            "Para el valor 50 la expresión encontrada es 3/1+6*9-7\n",
            "El código ha tardado en ejecutarse 17.64182186126709 segundos\n"
          ]
        }
      ],
      "source": [
        "import itertools\n",
        "import time\n",
        "\n",
        "def main_fuerza_bruta(buscar: str, numeros: list, operadores: list) -> str:\n",
        "    for numero in itertools.permutations(numeros, len(numeros)):\n",
        "         # (1, 2, 3, 4, 5), (1, 3, 4, 2, 9), etc.\n",
        "         for operador in itertools.permutations(operadores, len(operadores)):\n",
        "              # ('*', '/', '-', '+'), ('-', '+', '/', '*'), etc.\n",
        "              funcion = f\"{numero[0]}{operador[0]}{numero[1]}{operador[1]}{numero[2]}{operador[2]}{numero[3]}{operador[3]}{numero[4]}\"\n",
        "              # 1*3-2/8+7, 1-3+4/2*9, etc.\n",
        "              if eval(funcion) == buscar:\n",
        "                   return funcion\n",
        "\n",
        "\n",
        "tiempo_inicial_fuerza_bruta = time.time()\n",
        "buscar = 50\n",
        "numeros = list(range(1, 10))\n",
        "operadores = ['+', '-', '*', '/']\n",
        "resultado = main_fuerza_bruta(buscar, numeros, operadores)\n",
        "print(f'Para el valor {buscar} la expresión encontrada es {resultado}')\n",
        "tiempo_final_fuerza_bruta = time.time() \n",
        "print(f'El código ha tardado en ejecutarse {tiempo_final_fuerza_bruta - tiempo_inicial_fuerza_bruta} segundos')"
      ]
    },
    {
      "cell_type": "markdown",
      "metadata": {
        "id": "tgrnsC2nkFa8"
      },
      "source": [
        "### Calcula la complejidad del algoritmo por fuerza bruta"
      ]
    },
    {
      "cell_type": "markdown",
      "metadata": {
        "id": "9eUd3xwckP68"
      },
      "source": [
        "La complejidad es <b>O(n!)</b> porque se están generando todas las permutaciones dada una lista de tamaño n."
      ]
    },
    {
      "cell_type": "markdown",
      "metadata": {
        "id": "txbrmLmskReM"
      },
      "source": [
        "### (*)Diseña un algoritmo que mejore la complejidad del algortimo por fuerza bruta. Arguménta porque crees que mejora el algoritmo por fuerza bruta"
      ]
    },
    {
      "cell_type": "markdown",
      "source": [
        "En primer lugar, me gustaría comentar que antes de implementar la siguiente solución; había optado por un enfoque distinto.\n",
        "\n",
        "Mi primera idea, fue agregar a mi código una <b>poda</b> para eliminar la \"rama\" que no me interesase seguir explorando. Para ello, a mi código anterior le agregué la siguiente expresión:\n",
        "\n",
        "            if resultado_poda == buscar_poda:\n",
        "                return funcion_poda\n",
        "            if resultado_poda > buscar_poda:\n",
        "                break\n",
        "\n",
        "El objetivo con las sentencias anteriores era cortar la rama cuando un resultado fuese superior al número que quería hallar. Sin embargo, mi asunción no era del todo correcta, porque, en caso de tener algún operador resta/o división reduciría el resultado.\n",
        "\n",
        "Por otra parte, tampoco mejoraba la complejidad del algoritmo, sino su rendimiento.\n",
        "\n",
        "Por anexar información complementara de mi implementación:\n",
        "\n",
        "Tiempo de ejecución:\n",
        "> El código ha tardado en ejecutarse 14.007797718048096 segundos\n",
        "\n",
        "Expresión hallada:\n",
        "> Para el valor 50 la expresión encontrada es 3/1+9*6-7\n",
        "\n",
        "Mejora obtenida:\n",
        "> El algoritmo mejora un 90.39%\n"
      ],
      "metadata": {
        "id": "U_lsQcdpoqXv"
      }
    },
    {
      "cell_type": "markdown",
      "source": [
        "***\n",
        "\n",
        "Una vez explorada la opción anterior, y, tras una consulta con el profesor; mi segundo enfoque optaba por algo totalmente distinto.\n",
        "\n",
        "<b>Una búsqueda aleatórica</b>\n",
        "\n",
        "Esta técnica, creo que es muy apropiada si se le otorgan las suficientes iteraciones y la cantidad de posibilidades no es abrmadora."
      ],
      "metadata": {
        "id": "Nh1hoP8pr_2k"
      }
    },
    {
      "cell_type": "code",
      "source": [
        "import random\n",
        "import time\n",
        "\n",
        "def main_busqueda_aleatoria(buscar: str, numeros: list, operadores: list, iteraciones:int) -> str:\n",
        "  tiempo_inicial_busqueda = time.time()\n",
        "\n",
        "  def segunda_func():\n",
        "    numeros_seleccionados, operadores_seleccionados = [], []\n",
        "\n",
        "    while len(numeros_seleccionados) < len(numeros):\n",
        "      if len(numeros_seleccionados) == 0:\n",
        "        \n",
        "        disponibles_numeros = set(numeros).difference(set(numeros_seleccionados))\n",
        "        elemento_seleccionado = random.choice(list(disponibles_numeros))\n",
        "        numeros_seleccionados.append(elemento_seleccionado)\n",
        "\n",
        "\n",
        "      else:\n",
        "\n",
        "        disponibles_numeros = set(numeros).difference(set(numeros_seleccionados))\n",
        "        elemento_seleccionado = random.choice(list(disponibles_numeros))\n",
        "        numeros_seleccionados.append(elemento_seleccionado)\n",
        "\n",
        "        try:\n",
        "          disponibles_operadores = set(operadores).difference(set(operadores_seleccionados))\n",
        "          elemento_seleccionado = random.choice(list(disponibles_operadores))\n",
        "          operadores_seleccionados.append(elemento_seleccionado)\n",
        "        except: pass\n",
        "\n",
        "\n",
        "    funcion = f\"{numeros_seleccionados[0]}{operadores_seleccionados[0]}{numeros_seleccionados[1]}{operadores_seleccionados[1]}{numeros_seleccionados[2]}{operadores_seleccionados[2]}{numeros_seleccionados[3]}{operadores_seleccionados[3]}{numeros_seleccionados[4]}\"\n",
        "    return funcion\n",
        "\n",
        "  for iteracion in range(iteraciones):\n",
        "    res_funcion = segunda_func()\n",
        "    if eval(res_funcion) == buscar:\n",
        "      print(f'Para el valor {buscar} la expresión encontrada es {res_funcion}')\n",
        "      print(f'Encontrado en <{iteracion}> iteraciones')\n",
        "      break\n",
        "  \n",
        "  tiempo_final_busqueda = time.time() \n",
        "  print(f'El código ha tardado en ejecutarse {tiempo_final_busqueda - tiempo_inicial_busqueda} segundos')\n",
        "\n",
        "if __name__ == '__main__':\n",
        "  buscar_busqueda = 50\n",
        "  iteraciones = 5000\n",
        "  numeros_busqueda = list(range(1, 10))\n",
        "  operadores_busqueda = ['+', '-', '*', '/']\n",
        "  main_busqueda_aleatoria(buscar_busqueda, numeros_busqueda, operadores_busqueda, iteraciones)\n",
        "\n",
        "  "
      ],
      "metadata": {
        "id": "5H2YtkWOsC8I",
        "outputId": "39e6e43e-c509-40a7-a7a2-975cce4230d9",
        "colab": {
          "base_uri": "https://localhost:8080/"
        }
      },
      "execution_count": 34,
      "outputs": [
        {
          "output_type": "stream",
          "name": "stdout",
          "text": [
            "Para el valor 50 la expresión encontrada es 5*9+7-4/2\n",
            "Encontrado en <594> iteraciones\n",
            "El código ha tardado en ejecutarse 0.027657747268676758 segundos\n"
          ]
        }
      ]
    },
    {
      "cell_type": "markdown",
      "metadata": {
        "id": "dISoPAr4xFS7"
      },
      "source": [
        "***\n",
        "Este código optimiza al anterior debido a que no se generan todas las permutaciones, sino que dado un número de \"n\" iteraciones es posible encontrar la expresión. Sin embargo, también es posible que no sean suficientes vueltas y no hallarla.\n",
        "\n"
      ]
    },
    {
      "cell_type": "markdown",
      "metadata": {
        "id": "eGDB4K6uk1iN"
      },
      "source": [
        "### (*)Calcula la complejidad del algoritmo "
      ]
    },
    {
      "cell_type": "markdown",
      "metadata": {
        "id": "NhpTh_BPk1ms"
      },
      "source": [
        "El algoritmo optimizado tiene una complejidad de <b>O(n^2)</b> debido al par de bucles anidados.\n",
        "\n",
        "Como se puede observar, el tiempo de ejecución también se reduce inmensamente."
      ]
    },
    {
      "cell_type": "markdown",
      "metadata": {
        "id": "1qtjFPW7xFS8"
      },
      "source": [
        "### ¿Qué valor máximo y mínimo se pueden obtener según las condiciones del problema?, ¿Es posible encontrar todos los valores enteros posibles entre dicho mínimo y máximo?"
      ]
    },
    {
      "cell_type": "markdown",
      "metadata": {
        "id": "1r5O59qnxFS8"
      },
      "source": [
        "Resolveré esta pregunta (pdf clase) en este momento para poder resolver la siguiente (diseñar un juego de datos de entrada aleatorios)"
      ]
    },
    {
      "cell_type": "code",
      "execution_count": 35,
      "metadata": {
        "colab": {
          "base_uri": "https://localhost:8080/"
        },
        "id": "Voa0YbG1xFS8",
        "outputId": "9f69d4fe-9f95-406c-c097-c19f7cdcde6a"
      },
      "outputs": [
        {
          "output_type": "stream",
          "name": "stdout",
          "text": [
            "El valor máximo es 77.0\n",
            "El valor mínimo es -69.0\n",
            "Los valores enteros intermedios son [-69.0, -68.0, -67.0, -66.0, -65.0, -64.0, -63.0, -62.0, -61.0, -60.0, -59.0, -58.0, -57.0, -56.0, -55.0, -54.0, -53.0, -52.0, -51.0, -50.0, -49.0, -48.0, -47.0, -46.0, -45.0, -44.0, -43.0, -42.0, -41.0, -40.0, -39.0, -38.0, -37.0, -36.0, -35.0, -34.0, -33.0, -32.0, -31.0, -30.0, -29.0, -28.0, -27.0, -26.0, -25.0, -24.0, -23.0, -22.0, -21.0, -20.0, -19.0, -18.0, -17.0, -16.0, -15.0, -14.0, -13.0, -12.0, -11.0, -10.0, -9.0, -8.0, -7.0, -6.0, -5.0, -4.0, -3.0, -2.0, -1.0, 0.0, 1.0, 2.0, 3.0, 4.0, 5.0, 6.0, 7.0, 8.0, 9.0, 10.0, 11.0, 12.0, 13.0, 14.0, 15.0, 16.0, 17.0, 18.0, 19.0, 20.0, 21.0, 22.0, 23.0, 24.0, 25.0, 26.0, 27.0, 28.0, 29.0, 30.0, 31.0, 32.0, 33.0, 34.0, 35.0, 36.0, 37.0, 38.0, 39.0, 40.0, 41.0, 42.0, 43.0, 44.0, 45.0, 46.0, 47.0, 48.0, 49.0, 50.0, 51.0, 52.0, 53.0, 54.0, 55.0, 56.0, 57.0, 58.0, 59.0, 60.0, 61.0, 62.0, 63.0, 64.0, 65.0, 66.0, 67.0, 68.0, 69.0, 70.0, 71.0, 72.0, 73.0, 74.0, 75.0, 76.0, 77.0]\n",
            "El código ha tardado en ejecutarse 82.47263789176941 segundos\n"
          ]
        }
      ],
      "source": [
        "import itertools\n",
        "import time\n",
        "\n",
        "def main_pdf(numeros_max_min: list, operadores_max_min: list) -> list:\n",
        "    datos = set()\n",
        "    for numero_max_min in itertools.permutations(numeros_max_min, len(numeros_max_min)):\n",
        "         for operador_max_min in itertools.permutations(operadores_max_min, len(operadores_max_min)):\n",
        "            funcion_max_min = f\"{numero_max_min[0]}{operador_max_min[0]}{numero_max_min[1]}{operador_max_min[1]}{numero_max_min[2]}{operador_max_min[2]}{numero_max_min[3]}{operador_max_min[3]}{numero_max_min[4]}\"\n",
        "            candidato = eval(funcion_max_min)\n",
        "            if candidato == int(candidato):\n",
        "                datos.add(candidato)\n",
        "    return (max(datos), min(datos), sorted(datos))\n",
        "\n",
        "if __name__ == '__main__':\n",
        "    tiempo_inicial_max_min = time.time()\n",
        "    numeros_max_min = range(1, 10)\n",
        "    operadores_max_min = ['+', '-', '*', '/']\n",
        "    resultado = main_pdf(numeros_max_min, operadores_max_min)\n",
        "    print(f'El valor máximo es {resultado[0]}')\n",
        "    print(f'El valor mínimo es {resultado[1]}')\n",
        "    print(f'Los valores enteros intermedios son {resultado[2]}')\n",
        "    tiempo_final_max_min = time.time() \n",
        "    print(f'El código ha tardado en ejecutarse {tiempo_final_max_min - tiempo_inicial_max_min} segundos')"
      ]
    },
    {
      "cell_type": "markdown",
      "metadata": {
        "id": "3M6QjTsSkmYe"
      },
      "source": [
        "### Según el problema (y tenga sentido), diseña un juego de datos de entrada aleatorios"
      ]
    },
    {
      "cell_type": "code",
      "execution_count": 36,
      "metadata": {
        "id": "sJ-N2etjkyWc"
      },
      "outputs": [],
      "source": [
        "from random import randint\n",
        "\n",
        "juego_datos = [randint(-68, 77) for _ in range(3)]"
      ]
    },
    {
      "cell_type": "markdown",
      "metadata": {
        "id": "zy5ZROmjlGo1"
      },
      "source": [
        "### Aplica el algoritmo al juego de datos generado"
      ]
    },
    {
      "cell_type": "code",
      "execution_count": 37,
      "metadata": {
        "id": "Jkx8GeiYlUz1",
        "colab": {
          "base_uri": "https://localhost:8080/"
        },
        "outputId": "7d26ad9a-ee8f-4635-9c49-8ef3e3a7828a"
      },
      "outputs": [
        {
          "output_type": "stream",
          "name": "stdout",
          "text": [
            "Iteración 0\n",
            "Para el valor 44 la expresión encontrada es 5*9/1+7-8\n",
            "Encontrado en <221> iteraciones\n",
            "El código ha tardado en ejecutarse 0.0117340087890625 segundos\n",
            "\n",
            "Iteración 1\n",
            "Para el valor 41 la expresión encontrada es 6+9*8/2-1\n",
            "Encontrado en <421> iteraciones\n",
            "El código ha tardado en ejecutarse 0.02410101890563965 segundos\n",
            "\n",
            "Iteración 2\n",
            "Para el valor -50 la expresión encontrada es 5+8-7/1*9\n",
            "Encontrado en <1021> iteraciones\n",
            "El código ha tardado en ejecutarse 0.04105854034423828 segundos\n",
            "\n"
          ]
        }
      ],
      "source": [
        "for idx, valor_datos_generados in enumerate(juego_datos):\n",
        "    print(f'Iteración {idx}')\n",
        "    main_busqueda_aleatoria(valor_datos_generados, numeros_busqueda, operadores_busqueda, iteraciones)\n",
        "    print()\n",
        "\n"
      ]
    },
    {
      "cell_type": "markdown",
      "metadata": {
        "id": "eTFWUJQrtGcv"
      },
      "source": [
        "### Enumera las referencias que has utilizado (si ha sido necesario) para llevar a cabo el trabajo"
      ]
    },
    {
      "cell_type": "markdown",
      "metadata": {
        "id": "YKQ_mRBttWsP"
      },
      "source": [
        "1. https://docs.python.org/3/library/itertools.html\n",
        "2. Sesiones de clase.\n",
        "3. Conocimientos previos."
      ]
    },
    {
      "cell_type": "markdown",
      "metadata": {
        "id": "kAkDPUyRtYyH"
      },
      "source": [
        "### Describe brevemente las líneas de como crees que es posible avanzar en el estudio del problema. Ten en cuenta incluso posibles variaciones del problema y/o variaciones al alza del tamaño"
      ]
    },
    {
      "cell_type": "markdown",
      "metadata": {
        "id": "IE0uZmo-tZu-"
      },
      "source": [
        "Este problema pese a su aparente \"simplicidad\" tiene muchas líneas por las que seguir avanzando con el fin de mejorar la implementación, así como, su complejidad.\n",
        "\n",
        "Este problema presenta dificultades como:\n",
        "- ¿Qué pasaría si el tamaño de entrada (números) fuese del muy grande?\n",
        "- ¿Que pasaría si la expresión se tuviese que formar con 7 operadores?\n",
        "\n",
        "En base a las preguntas anteriores, nos damos cuenta que la cantidad de permutaciones serían tan grandes que resolver el problema por fuerza bruta no llega a ser ni una opción.\n",
        "\n",
        "En mi opinión, creo que las direcciones para avanzar serían:\n",
        "> Algoritmos heurísticos mejorados.\n",
        "\n",
        "> Algoritmos genéticos.\n",
        "\n",
        "\n",
        "Me decanto más por <b>algoritmos genéticos</b> por el siguiente motivo:\n",
        "\n",
        "La intención es avanzar en el estudio del problema utilizando técnicas que \"escojan\" aquel conjunto de expresiones más probables y/o cercanos que den valores próximos al resultado que se desea obtener.\n",
        "\n",
        "En este caso, la selección permitiría escoger las expresiones que obtienen un resultado más cercano al deseado, y, que estas, formen parte de la siguiente generación. De esta manera, se evitaría evaluar todas las combinaciones.\n",
        "- La mutación podría suceder en los signos o números."
      ]
    }
  ],
  "metadata": {
    "colab": {
      "provenance": [],
      "include_colab_link": true
    },
    "kernelspec": {
      "display_name": "aprendizaje_supervisado",
      "language": "python",
      "name": "python3"
    },
    "language_info": {
      "codemirror_mode": {
        "name": "ipython",
        "version": 3
      },
      "file_extension": ".py",
      "mimetype": "text/x-python",
      "name": "python",
      "nbconvert_exporter": "python",
      "pygments_lexer": "ipython3",
      "version": "3.9.15"
    },
    "vscode": {
      "interpreter": {
        "hash": "52d243c847886a6bad1e80c360bf71a8839ea10f2f124b39d6cf3f01f972106f"
      }
    }
  },
  "nbformat": 4,
  "nbformat_minor": 0
}