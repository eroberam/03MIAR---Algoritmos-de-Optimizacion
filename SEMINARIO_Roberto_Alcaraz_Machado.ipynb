{
  "cells": [
    {
      "cell_type": "markdown",
      "metadata": {
        "id": "view-in-github",
        "colab_type": "text"
      },
      "source": [
        "<a href=\"https://colab.research.google.com/github/eroberam/03MIAR---Algoritmos-de-Optimizacion/blob/main/SEMINARIO_Roberto_Alcaraz_Machado.ipynb\" target=\"_parent\"><img src=\"https://colab.research.google.com/assets/colab-badge.svg\" alt=\"Open In Colab\"/></a>"
      ]
    },
    {
      "cell_type": "markdown",
      "metadata": {
        "id": "hVbXYX-RfPWh"
      },
      "source": [
        "# Algoritmos de optimización - Seminario<br>\n",
        "Nombre y Apellidos: Roberto Alcaraz Machado   <br>\n",
        "Link:https://colab.research.google.com/github/eroberam/03MIAR---Algoritmos-de-Optimizacion/blob/main/SEMINARIO_Roberto_Alcaraz_Machado.ipynb <br>\n",
        "Url: https://github.com/eroberam/03MIAR---Algoritmos-de-Optimizacion<br>\n",
        "Problema:\n",
        ">3. Combinar cifras y operaciones                                      "
      ]
    },
    {
      "cell_type": "markdown",
      "metadata": {
        "id": "MLI4AZJDxFS4"
      },
      "source": [
        "### Descripción del problema\n",
        "\n",
        "El problema consiste en analizar el siguiente problema y diseñar un algoritmo que lo resuelva.\n",
        "\n",
        "Disponemos de las 9 cifras del 1 al 9 (excluimos el cero) y de los 4 operadoros básicos de las operaciones fundamentales: suma(+), resta(-), multiplicación(*) y división(/)\n",
        "\n",
        "Debemos combinarlos alternativamente sin repetir ninguno de ellos para obtener una cantidad dada.\n",
        "\n",
        "Un ejemplo sería para obtener el 4: 4+2-6/3*1 = 4\n",
        "\n",
        "Debe analizarse el problema para encontrar todos los valores enteros posibles planteando las siguientes cuestiones:\n",
        "\n",
        "- ¿Qué valor máximo y mínimo se pueden obtener según las condiciones del problema?\n",
        "- ¿Es posible encontrar todos los valores enteros posibles entre dicho mínimo y máximo?\n",
        "\n",
        "Nota: Es posible usar la función de python “eval” para evaluar una expresión:"
      ]
    },
    {
      "cell_type": "markdown",
      "metadata": {
        "id": "rL12vlBixFS4"
      },
      "source": [
        "### ¿Cuántas posibilidades hay sin tener en cuenta las restricciones?<br>"
      ]
    },
    {
      "cell_type": "markdown",
      "metadata": {
        "id": "tBfH-9L2xFS4"
      },
      "source": [
        "Sin tener en cuenta las reestricciones, el cálculo es el siguiente:\n",
        "1. Se tienen nueve números y la posibilidad de usar cinco de ellos. Por tanto, la operación sería 9^5.\n",
        "2. Se tienen cuatro operadoros y la posibilidad de usar los cuatro. Por tanto, la operación sería 4^4.\n",
        "\n",
        "Operando los números: (9^5) = 59.049 posibilidades.\n",
        "\n",
        "Operando los operadoros: (4^4) = 256 posibilidades.\n",
        "\n",
        "El resultado sería: (59.049) * (256) = 15.116,544 posibilidades."
      ]
    },
    {
      "cell_type": "markdown",
      "metadata": {
        "id": "3_-exlrTgLd-"
      },
      "source": [
        "### ¿Cuántas posibilidades hay teniendo en cuenta todas las restricciones?"
      ]
    },
    {
      "cell_type": "markdown",
      "metadata": {
        "id": "WfCUqJyKhPcw"
      },
      "source": [
        "Teniendo en cuenta las reestricciones:\n",
        "1. No se pueden repetir operadores\n",
        "2. No se pueden repetir números\n",
        "\n",
        "En este caso, al seleccionar un valor, se elimina esa posibilidad del conjunto. Por tanto, al poder tomar únicamente cinco números, la operación sería 9! / (9 - 5)!, o, lo que es lo mismo, 9! / 4!\n",
        "\n",
        "En este caso, pese a que se elimina un operador del conjunto de operadoros, al tomar los cuatro, la operacion sería 4!\n",
        "\n",
        "Operando los números: (9! / 4!) = 15.120\n",
        "\n",
        "Operando los operadoros: (4!) = 24\n",
        "\n",
        "El resultado sería: (15.120) * (24) = 362.880"
      ]
    },
    {
      "cell_type": "markdown",
      "metadata": {
        "id": "dzynfVJahHoY"
      },
      "source": [
        "### Modelo para el espacio de soluciones<br>\n",
        "\n",
        "### ¿Cual es la estructura de datos que mejor se adapta al problema? Arguméntalo. (Es posible que hayas elegido una al principio y veas la necesidad de cambiar, arguméntalo)\n"
      ]
    },
    {
      "cell_type": "markdown",
      "metadata": {
        "id": "xFIJrOwKi2Ti"
      },
      "source": [
        "En mi caso, la mejor estructura que he sido capaz de hallar ha sido inicializar dos listas; una para números, y, otra con los operadoros con el fin de realizar permutaciones para combiarlos y evaluar mi función objetivo.\n",
        "\n",
        "Mi idea, fue combinar las permutaciones de números (1, 2, 3, 4, 5), (1, 3, 4, 2, 9), ... con las permutaciones de los operadores ('* ', '/', '-', '+'), ('-', '+', '/', '* '), ... de manera que por iteración se forma una expresión del tipo 3/1+6*9-7\n",
        "\n",
        "Originalmente, mi estructura eran bucles anidados con condicionales en los que comparaba si había seleccionado un número y/o símbolo, y, había formado esa combinación previamente consultando en una lista \"almacen\". Sin embargo, esa solución no era eficiente ni legible. En ese momento, me di cuenta que lo que estaba implementando manualmente no era otra cosa que permutaciones y recurrí a la libreía de itertools (https://docs.python.org/3/library/itertools.html) debido a que me ahorraba programar los condicionales y solo debía preocuparle de la lógica posterior."
      ]
    },
    {
      "cell_type": "markdown",
      "metadata": {
        "id": "7Z9U2W7bi-XS"
      },
      "source": [
        "### Según el modelo para el espacio de soluciones<br>\n",
        "\n",
        "### ¿Cual es la función objetivo?\n",
        "\n",
        "La función objetivo es encontrar una expresión que al evaluarla de como resultado el número que se pretende buscar.\n",
        "\n",
        "### ¿Es un problema de maximización o minimización?\n",
        "\n",
        "No es ninguno de los anteriores porque no se trata de búscar un máximo o un mínimo, sino de buscar una expresión."
      ]
    },
    {
      "cell_type": "markdown",
      "metadata": {
        "id": "rlnTYgY1j6I2"
      },
      "source": [
        "### Diseña un algoritmo para resolver el problema por fuerza bruta"
      ]
    },
    {
      "cell_type": "code",
      "execution_count": null,
      "metadata": {
        "id": "CJb5sQ0qkENy",
        "colab": {
          "base_uri": "https://localhost:8080/"
        },
        "outputId": "1da104f8-e813-4370-8aa8-5a3fc5fe98d6"
      },
      "outputs": [
        {
          "output_type": "stream",
          "name": "stdout",
          "text": [
            "Para el valor 50 la expresión encontrada es 3/1+6*9-7\n",
            "El código ha tardado en ejecutarse 26.66875195503235 segundos\n"
          ]
        }
      ],
      "source": [
        "import itertools\n",
        "import time\n",
        "\n",
        "def main_fuerza_bruta(buscar: str, numeros: list, operadores: list) -> str:\n",
        "    for numero in itertools.permutations(numeros, len(numeros)):\n",
        "         # (1, 2, 3, 4, 5), (1, 3, 4, 2, 9), etc.\n",
        "         for operador in itertools.permutations(operadores, len(operadores)):\n",
        "              # ('*', '/', '-', '+'), ('-', '+', '/', '*'), etc.\n",
        "              funcion = f\"{numero[0]}{operador[0]}{numero[1]}{operador[1]}{numero[2]}{operador[2]}{numero[3]}{operador[3]}{numero[4]}\"\n",
        "              # 1*3-2/8+7, 1-3+4/2*9, etc.\n",
        "              if eval(funcion) == buscar:\n",
        "                   return funcion\n",
        "\n",
        "\n",
        "tiempo_inicial_fuerza_bruta = time.time()\n",
        "buscar = 50\n",
        "numeros = list(range(1, 10))\n",
        "operadores = ['+', '-', '*', '/']\n",
        "resultado = main_fuerza_bruta(buscar, numeros, operadores)\n",
        "print(f'Para el valor {buscar} la expresión encontrada es {resultado}')\n",
        "tiempo_final_fuerza_bruta = time.time() \n",
        "print(f'El código ha tardado en ejecutarse {tiempo_final_fuerza_bruta - tiempo_inicial_fuerza_bruta} segundos')"
      ]
    },
    {
      "cell_type": "markdown",
      "metadata": {
        "id": "tgrnsC2nkFa8"
      },
      "source": [
        "### Calcula la complejidad del algoritmo por fuerza bruta"
      ]
    },
    {
      "cell_type": "markdown",
      "metadata": {
        "id": "9eUd3xwckP68"
      },
      "source": [
        "La complejidad es O(n!) porque se están generando todas las permutaciones."
      ]
    },
    {
      "cell_type": "markdown",
      "metadata": {
        "id": "txbrmLmskReM"
      },
      "source": [
        "### Diseña un algoritmo que mejore la complejidad del algortimo por fuerza bruta. Arguménta porque crees que mejora el algoritmo por fuerza bruta"
      ]
    },
    {
      "cell_type": "code",
      "execution_count": null,
      "metadata": {
        "id": "m1eyM21Vkabg",
        "colab": {
          "base_uri": "https://localhost:8080/"
        },
        "outputId": "82c5754d-24fb-4a0d-e397-5edaedaadafe"
      },
      "outputs": [
        {
          "output_type": "stream",
          "name": "stdout",
          "text": [
            "Para el valor 50 la expresión encontrada es 3/1+9*6-7\n",
            "El código ha tardado en ejecutarse 14.007797718048096 segundos\n"
          ]
        }
      ],
      "source": [
        "import itertools\n",
        "import time\n",
        "\n",
        "def main_poda(buscar_poda: str, numeros_poda: list, operadores_poda: list) -> str:\n",
        "    for numero_poda in itertools.permutations(numeros_poda, len(numeros_poda)):\n",
        "        for operador_poda in itertools.permutations(operadores_poda, len(operadores_poda)):\n",
        "            funcion_poda = f\"{numero_poda[0]}{operador_poda[0]}{numero_poda[1]}{operador_poda[1]}{numero_poda[2]}{operador_poda[2]}{numero_poda[3]}{operador_poda[3]}{numero_poda[4]}\"\n",
        "            resultado_poda = eval(funcion_poda)\n",
        "            if resultado_poda == buscar_poda:\n",
        "                return funcion_poda\n",
        "            if resultado_poda > buscar_poda:\n",
        "                break\n",
        "\n",
        "if __name__ == '__main__':\n",
        "    tiempo_inicial_poda = time.time()\n",
        "    buscar_poda = 50\n",
        "    numeros_poda = list(range(1, 10))\n",
        "    operadores_poda = ['+', '-', '*', '/']\n",
        "    resultado_poda = main_poda(buscar_poda, numeros_poda, operadores_poda)\n",
        "    print(f'Para el valor {buscar_poda} la expresión encontrada es {resultado_poda}')\n",
        "    tiempo_final_poda = time.time() \n",
        "    print(f'El código ha tardado en ejecutarse {tiempo_final_poda - tiempo_inicial_poda} segundos')"
      ]
    },
    {
      "cell_type": "markdown",
      "metadata": {
        "id": "dISoPAr4xFS7"
      },
      "source": [
        "Este código optimiza al anterior porque introduce una poda.\n",
        "\n",
        "En el momento en el que el resultado de una expresión es superior al número que se quiere hallar, se corta la rama porque nunca se podrá obteneter el resultado buscado a partir de esa combinación.\n",
        "\n",
        "Para demostrar la optimización se hace el siguiente cálculo:"
      ]
    },
    {
      "cell_type": "code",
      "execution_count": null,
      "metadata": {
        "colab": {
          "base_uri": "https://localhost:8080/"
        },
        "id": "yzGMSCcsxFS7",
        "outputId": "9c03a6fd-e4e2-45a5-a623-fe2244c6bb88"
      },
      "outputs": [
        {
          "output_type": "stream",
          "name": "stdout",
          "text": [
            "El algoritmo mejora un 90.39%\n"
          ]
        }
      ],
      "source": [
        "fuerza_bruta = tiempo_final_poda - tiempo_inicial_poda\n",
        "poda = tiempo_final_fuerza_bruta - tiempo_inicial_fuerza_bruta\n",
        "diferencia_resultado = abs(((poda - fuerza_bruta) / fuerza_bruta) * 100)\n",
        "print(f'El algoritmo mejora un {round(diferencia_resultado, 2)}%')\n"
      ]
    },
    {
      "cell_type": "markdown",
      "metadata": {
        "id": "eGDB4K6uk1iN"
      },
      "source": [
        "### Calcula la complejidad del algoritmo "
      ]
    },
    {
      "cell_type": "markdown",
      "metadata": {
        "id": "NhpTh_BPk1ms"
      },
      "source": [
        "El algoritmo sigue siendo O(n!) porque se siguen generando las permutaciones."
      ]
    },
    {
      "cell_type": "markdown",
      "metadata": {
        "id": "1qtjFPW7xFS8"
      },
      "source": [
        "### ¿Qué valor máximo y mínimo se pueden obtener según las condiciones del problema?, ¿Es posible encontrar todos los valores enteros posibles entre dicho mínimo y máximo?"
      ]
    },
    {
      "cell_type": "markdown",
      "metadata": {
        "id": "1r5O59qnxFS8"
      },
      "source": [
        "Resolveré esta pregunta (pdf clase) en este momento para poder resolver la siguiente (diseñar un juego de datos de entrada aleatorios)"
      ]
    },
    {
      "cell_type": "code",
      "execution_count": null,
      "metadata": {
        "colab": {
          "base_uri": "https://localhost:8080/"
        },
        "id": "Voa0YbG1xFS8",
        "outputId": "a74dc608-593a-48bd-b02c-982c3ddaaad3"
      },
      "outputs": [
        {
          "output_type": "stream",
          "name": "stdout",
          "text": [
            "El valor máximo es 77.0\n",
            "El valor mínimo es -69.0\n",
            "Los valores enteros intermedios son [-69.0, -68.0, -67.0, -66.0, -65.0, -64.0, -63.0, -62.0, -61.0, -60.0, -59.0, -58.0, -57.0, -56.0, -55.0, -54.0, -53.0, -52.0, -51.0, -50.0, -49.0, -48.0, -47.0, -46.0, -45.0, -44.0, -43.0, -42.0, -41.0, -40.0, -39.0, -38.0, -37.0, -36.0, -35.0, -34.0, -33.0, -32.0, -31.0, -30.0, -29.0, -28.0, -27.0, -26.0, -25.0, -24.0, -23.0, -22.0, -21.0, -20.0, -19.0, -18.0, -17.0, -16.0, -15.0, -14.0, -13.0, -12.0, -11.0, -10.0, -9.0, -8.0, -7.0, -6.0, -5.0, -4.0, -3.0, -2.0, -1.0, 0.0, 1.0, 2.0, 3.0, 4.0, 5.0, 6.0, 7.0, 8.0, 9.0, 10.0, 11.0, 12.0, 13.0, 14.0, 15.0, 16.0, 17.0, 18.0, 19.0, 20.0, 21.0, 22.0, 23.0, 24.0, 25.0, 26.0, 27.0, 28.0, 29.0, 30.0, 31.0, 32.0, 33.0, 34.0, 35.0, 36.0, 37.0, 38.0, 39.0, 40.0, 41.0, 42.0, 43.0, 44.0, 45.0, 46.0, 47.0, 48.0, 49.0, 50.0, 51.0, 52.0, 53.0, 54.0, 55.0, 56.0, 57.0, 58.0, 59.0, 60.0, 61.0, 62.0, 63.0, 64.0, 65.0, 66.0, 67.0, 68.0, 69.0, 70.0, 71.0, 72.0, 73.0, 74.0, 75.0, 76.0, 77.0]\n",
            "El código ha tardado en ejecutarse 79.47007393836975 segundos\n"
          ]
        }
      ],
      "source": [
        "import itertools\n",
        "import time\n",
        "\n",
        "def main_pdf(numeros_max_min: list, operadores_max_min: list) -> list:\n",
        "    datos = set()\n",
        "    for numero_max_min in itertools.permutations(numeros_max_min, len(numeros_max_min)):\n",
        "         for operador_max_min in itertools.permutations(operadores_max_min, len(operadores_max_min)):\n",
        "            funcion_max_min = f\"{numero_max_min[0]}{operador_max_min[0]}{numero_max_min[1]}{operador_max_min[1]}{numero_max_min[2]}{operador_max_min[2]}{numero_max_min[3]}{operador_max_min[3]}{numero_max_min[4]}\"\n",
        "            candidato = eval(funcion_max_min)\n",
        "            if candidato == int(candidato):\n",
        "                datos.add(candidato)\n",
        "    return (max(datos), min(datos), sorted(datos))\n",
        "\n",
        "if __name__ == '__main__':\n",
        "    tiempo_inicial_max_min = time.time()\n",
        "    numeros_max_min = range(1, 10)\n",
        "    operadores_max_min = ['+', '-', '*', '/']\n",
        "    resultado = main_pdf(numeros_max_min, operadores_max_min)\n",
        "    print(f'El valor máximo es {resultado[0]}')\n",
        "    print(f'El valor mínimo es {resultado[1]}')\n",
        "    print(f'Los valores enteros intermedios son {resultado[2]}')\n",
        "    tiempo_final_max_min = time.time() \n",
        "    print(f'El código ha tardado en ejecutarse {tiempo_final_max_min - tiempo_inicial_max_min} segundos')"
      ]
    },
    {
      "cell_type": "markdown",
      "metadata": {
        "id": "3M6QjTsSkmYe"
      },
      "source": [
        "### Según el problema (y tenga sentido), diseña un juego de datos de entrada aleatorios"
      ]
    },
    {
      "cell_type": "code",
      "execution_count": null,
      "metadata": {
        "id": "sJ-N2etjkyWc"
      },
      "outputs": [],
      "source": [
        "from random import randint\n",
        "\n",
        "juego_datos = [randint(-68, 77) for _ in range(3)]"
      ]
    },
    {
      "cell_type": "markdown",
      "metadata": {
        "id": "zy5ZROmjlGo1"
      },
      "source": [
        "### Aplica el algoritmo al juego de datos generado"
      ]
    },
    {
      "cell_type": "code",
      "execution_count": null,
      "metadata": {
        "id": "Jkx8GeiYlUz1",
        "colab": {
          "base_uri": "https://localhost:8080/"
        },
        "outputId": "caac834f-48be-4824-f618-702bca27da85"
      },
      "outputs": [
        {
          "output_type": "stream",
          "name": "stdout",
          "text": [
            "Iteración 0\n",
            "Número a buscar -12\n",
            "Expresión 1+2-5*9/3\n",
            "\n",
            "Iteración 1\n",
            "Número a buscar -65\n",
            "Expresión 2+5-8*9/1\n",
            "\n",
            "Iteración 2\n",
            "Número a buscar 65\n",
            "Expresión 4/1+7*9-2\n",
            "\n"
          ]
        }
      ],
      "source": [
        "for idx, valor_datos_generados in enumerate(juego_datos):\n",
        "    solucion_juego_datos = main_poda(valor_datos_generados, numeros_poda, operadores_poda)\n",
        "    print(f'Iteración {idx}')\n",
        "    print(f'Número a buscar {valor_datos_generados}')\n",
        "    print(f'Expresión {solucion_juego_datos}\\n')\n"
      ]
    },
    {
      "cell_type": "markdown",
      "metadata": {
        "id": "eTFWUJQrtGcv"
      },
      "source": [
        "### Enumera las referencias que has utilizado (si ha sido necesario) para llevar a cabo el trabajo"
      ]
    },
    {
      "cell_type": "markdown",
      "metadata": {
        "id": "YKQ_mRBttWsP"
      },
      "source": [
        "1. https://docs.python.org/3/library/itertools.html"
      ]
    },
    {
      "cell_type": "markdown",
      "metadata": {
        "id": "kAkDPUyRtYyH"
      },
      "source": [
        "### Describe brevemente las líneas de como crees que es posible avanzar en el estudio del problema. Ten en cuenta incluso posibles variaciones del problema y/o variaciones al alza del tamaño"
      ]
    },
    {
      "cell_type": "markdown",
      "metadata": {
        "id": "IE0uZmo-tZu-"
      },
      "source": [
        "En mi caso, no he sido capaz de implementar un algoritmo más eficiente. Sin embargo, creo que existen dos líneas de investigación interesante.\n",
        "\n",
        "En primer lugar, expondré la que me parece menos eficiente de las dos soluciones que quiero describir.\n",
        "\n",
        "La primera, consiste en utilizar un algoritmo heurístico debido a que este podría guíar la búsqueda a las combinaciones más probables. Sin embargo, también es posible que a un tamaño de entrada mayor este algoritmo no sea capaz de encontrar ninguna solución e incluso pueda ser peor que utilizar fuerza bruta.\n",
        "\n",
        "La segunda, consiete en utilizar un algoritmo genérico debido a que la selección permitiría escoger las expresiones que obtienen un resultado más cercano al deseado, y, que estas, formen parte de la siguiente generación. De esta manera, se evitaría evaluar todas las combinaciones.\n",
        "\n",
        "Como se puede observar, la intenciñon es avanzar en el estudio del problema utilizando técnicas que \"escojan\" aquel conjunto de expresiones más probables y/o cercanos que den valores próximos al resultado que se desea obtener.\n",
        "\n",
        "Por último, el algoritmo de fuerza bruta, es una buena decisión para entradas pequeñas. Sin embargo, conforme crezca el tamaño el número de permitaciones y combinaciones convertirá esta solución es poco eficiente."
      ]
    }
  ],
  "metadata": {
    "colab": {
      "provenance": [],
      "include_colab_link": true
    },
    "kernelspec": {
      "display_name": "aprendizaje_supervisado",
      "language": "python",
      "name": "python3"
    },
    "language_info": {
      "codemirror_mode": {
        "name": "ipython",
        "version": 3
      },
      "file_extension": ".py",
      "mimetype": "text/x-python",
      "name": "python",
      "nbconvert_exporter": "python",
      "pygments_lexer": "ipython3",
      "version": "3.9.15"
    },
    "vscode": {
      "interpreter": {
        "hash": "52d243c847886a6bad1e80c360bf71a8839ea10f2f124b39d6cf3f01f972106f"
      }
    }
  },
  "nbformat": 4,
  "nbformat_minor": 0
}