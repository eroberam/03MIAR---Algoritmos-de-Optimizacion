{
  "nbformat": 4,
  "nbformat_minor": 0,
  "metadata": {
    "colab": {
      "provenance": [],
      "authorship_tag": "ABX9TyOR8RSizfJ4eTgLNhgDjyYK",
      "include_colab_link": true
    },
    "kernelspec": {
      "name": "python3",
      "display_name": "Python 3"
    },
    "language_info": {
      "name": "python"
    }
  },
  "cells": [
    {
      "cell_type": "markdown",
      "metadata": {
        "id": "view-in-github",
        "colab_type": "text"
      },
      "source": [
        "<a href=\"https://colab.research.google.com/github/eroberam/03MIAR---Algoritmos-de-Optimizacion/blob/main/AG2_Roberto_Alcaraz_Machado.ipynb\" target=\"_parent\"><img src=\"https://colab.research.google.com/assets/colab-badge.svg\" alt=\"Open In Colab\"/></a>"
      ]
    },
    {
      "cell_type": "markdown",
      "source": [
        "Nombre: Roberto Alcaraz Machado <br>\n",
        "Link:https://colab.research.google.com/drive/1OddXyWsxrzc1keYiOGu70QMHSd6mZ5Ok?usp=sharing <br>\n",
        "Url: https://github.com/eroberam/03MIAR---Algoritmos-de-Optimizacion"
      ],
      "metadata": {
        "id": "ug-HwgzqN21A"
      }
    },
    {
      "cell_type": "code",
      "source": [
        "import math"
      ],
      "metadata": {
        "id": "BU_-_1-_N5Ys"
      },
      "execution_count": 1,
      "outputs": []
    },
    {
      "cell_type": "markdown",
      "source": [
        "#Viaje por el rio"
      ],
      "metadata": {
        "id": "9Ehg98oyPkTg"
      }
    },
    {
      "cell_type": "code",
      "source": [
        "TARIFAS = [\n",
        "    [0, 5, 4, 3, float(\"inf\"), 999, 999], # desde nodo 0\n",
        "    [999, 0, 999, 2, 3, 999, 11], # desde nodo 1\n",
        "    [999, 999, 0, 1, 999, 4, 10], # desde nodo 2\n",
        "    [999, 999, 999, 0, 5, 6, 9],\n",
        "    [999, 999, 999, 999, 0, 999, 4],\n",
        "    [999, 999, 999, 999, 999, 0, 3],\n",
        "    [999, 999, 999, 999, 999, 999, 0]\n",
        "]\n",
        "\n",
        "def Precios(TARIFAS):\n",
        "##############################################\n",
        "  #Total de Nodos\n",
        "  N = len(TARIFAS[0])\n",
        "\n",
        "  #Inicialización de la tabla de precios\n",
        "  PRECIOS = [ [9999]*N for i in [9999]*N ] #n x n\n",
        "  RUTA = [ [\"\"]*N for i in [\"\"]*N ]\n",
        "\n",
        "  #Se recorren todos los nodos con dos bucles (origen - destino)\n",
        "  # para ir construyendo la matriz de PRECIOS\n",
        "  for i in range(N-1):\n",
        "    for j in range(i+1, N):\n",
        "      MIN = TARIFAS[i][j]\n",
        "      RUTA[i][j] = i\n",
        "\n",
        "      for k in range(i, j):\n",
        "        if PRECIOS[i][k] + TARIFAS [k][j] < MIN:\n",
        "          MIN = min(MIN, PRECIOS[i][k] + TARIFAS[k][j])\n",
        "          RUTA[i][j] = k\n",
        "        PRECIOS[i][j] = MIN\n",
        "  return PRECIOS, RUTA\n",
        "\n",
        "PRECIOS, RUTA = Precios(TARIFAS)\n",
        "print(PRECIOS)\n",
        "print(RUTA)"
      ],
      "metadata": {
        "colab": {
          "base_uri": "https://localhost:8080/",
          "height": 0
        },
        "id": "7fw2FIbIPnnx",
        "outputId": "f661edd2-7f3c-4190-c36a-ba1ab60cf58b"
      },
      "execution_count": 13,
      "outputs": [
        {
          "output_type": "stream",
          "name": "stdout",
          "text": [
            "[[9999, 5, 4, 3, 8, 8, 11], [9999, 9999, 999, 2, 3, 8, 7], [9999, 9999, 9999, 1, 6, 4, 7], [9999, 9999, 9999, 9999, 5, 6, 9], [9999, 9999, 9999, 9999, 9999, 999, 4], [9999, 9999, 9999, 9999, 9999, 9999, 3], [9999, 9999, 9999, 9999, 9999, 9999, 9999]]\n",
            "[['', 0, 0, 0, 1, 2, 5], ['', '', 1, 1, 1, 3, 4], ['', '', '', 2, 3, 2, 5], ['', '', '', '', 3, 3, 3], ['', '', '', '', '', 4, 4], ['', '', '', '', '', '', 5], ['', '', '', '', '', '', '']]\n"
          ]
        }
      ]
    },
    {
      "cell_type": "code",
      "source": [
        "# Calculo de la ruta usando la matriz RUTA\n",
        "def calcular_ruta(RUTA, desde, hasta):\n",
        "  if desde == RUTA[desde][hasta]:\n",
        "    # if desde == hasta:\n",
        "      # print (\"Ir a :\" + str(desde))\n",
        "      return desde\n",
        "  else:\n",
        "    return str(calcular_ruta(RUTA, desde, RUTA[desde][hasta])) + ',' + str(RUTA[desde][hasta])\n",
        "\n",
        "print(\"\\nLa ruta es:\")\n",
        "calcular_ruta(RUTA, 0, 6)"
      ],
      "metadata": {
        "colab": {
          "base_uri": "https://localhost:8080/",
          "height": 70
        },
        "id": "W4VsqzLBSujy",
        "outputId": "5ab5cd7c-f9be-47db-d338-3e528e403781"
      },
      "execution_count": 14,
      "outputs": [
        {
          "output_type": "stream",
          "name": "stdout",
          "text": [
            "\n",
            "La ruta es:\n"
          ]
        },
        {
          "output_type": "execute_result",
          "data": {
            "text/plain": [
              "'0,2,5'"
            ],
            "application/vnd.google.colaboratory.intrinsic+json": {
              "type": "string"
            }
          },
          "metadata": {},
          "execution_count": 14
        }
      ]
    },
    {
      "cell_type": "markdown",
      "source": [
        "### Ramificación y poda"
      ],
      "metadata": {
        "id": "HvzjurkXUKpn"
      }
    },
    {
      "cell_type": "code",
      "source": [
        "COSTES = [[11, 12, 18, 40],\n",
        "          [14, 15, 13, 22],\n",
        "          [11, 17, 19, 26],\n",
        "          [17, 14, 20, 28]]"
      ],
      "metadata": {
        "id": "Ru58_b7aUMcM"
      },
      "execution_count": 15,
      "outputs": []
    },
    {
      "cell_type": "code",
      "source": [
        "def valor(S, COSTES):\n",
        "  VALOR = 0\n",
        "  for i in range(len(S)):\n",
        "    VALOR += COSTES[i][S[i]]\n",
        "  return VALOR\n",
        "\n",
        "def CI(S, COSTES):\n",
        "  VALOR = 0\n",
        "  #Valores establecidos\n",
        "  for i in range(len(S)):\n",
        "    VALOR += COSTES[i][S[i]]\n",
        "\n",
        "  #Estimación\n",
        "  for i in range (len(S), len(COSTES)):\n",
        "    VALOR += min([COSTES[j][i] for j in range(len(S), len(COSTES))])\n",
        "  return VALOR\n",
        "\n",
        "def CS(S, COSTES):\n",
        "  VALOR = 0\n",
        "  #Valores establecidos\n",
        "  for i in range(len(S)):\n",
        "    VALOR += COSTES[i][S[i]]\n",
        "\n",
        "  #Estimación\n",
        "  for i in range (len(S), len(COSTES)):\n",
        "    VALOR += max([COSTES[j][i] for j in range(len(S), len(COSTES))])\n",
        "  return VALOR"
      ],
      "metadata": {
        "id": "3Ajhz-k3UcrM"
      },
      "execution_count": 20,
      "outputs": []
    },
    {
      "cell_type": "code",
      "source": [
        "# Genera tantos hijos como posibilidades haya para el siguiente elemento de la tupla\n",
        "# (0,) -> (0, 1), (0, 2), (0, 3)\n",
        "\n",
        "def crear_hijos(NODO, N):\n",
        "  HIJOS = []\n",
        "  for i in range(N):\n",
        "    if i not in NODO:\n",
        "      HIJOS.append({'s':NODO + (i,)})\n",
        "  return HIJOS\n",
        "crear_hijos((0,1, 3),4)"
      ],
      "metadata": {
        "colab": {
          "base_uri": "https://localhost:8080/",
          "height": 0
        },
        "id": "SNyJgUIXU6_F",
        "outputId": "e9f5df60-06a0-4036-d6f9-0fb24a8211ce"
      },
      "execution_count": 25,
      "outputs": [
        {
          "output_type": "execute_result",
          "data": {
            "text/plain": [
              "[{'s': (0, 1, 3, 2)}]"
            ]
          },
          "metadata": {},
          "execution_count": 25
        }
      ]
    },
    {
      "cell_type": "code",
      "source": [
        "def ramificacion_y_poda(COSTES):\n",
        "  #Construcción iterativa de soluciones(arbol). En cada etapa asignamos un agente (ramas).\n",
        "  #Nodos del grafo {s:(1, 2), CI:3, CS:5}\n",
        "  #print(COSTES)\n",
        "  DIMENSION = len(COSTES)\n",
        "  MEJOR_SOLUCION = tuple(i for i in range(len(COSTES)))\n",
        "  CotaSup = valor(MEJOR_SOLUCION, COSTES)\n",
        "  #print(\"Cota Superopr:\", CotaSup)\n",
        "\n",
        "  NODOS = []\n",
        "  NODOS.append({'s':(), 'ci':CI((), COSTES)})\n",
        "\n",
        "  iteracion = 0\n",
        "  while (len(NODOS) > 0):\n",
        "    iteracion += 1\n",
        "    nodo_prometedor = [min(NODOS, key=lambda x:x['ci'])][0]['s']\n",
        "    #print('Nodo prometedor:', nodo_prometedor)\n",
        "\n",
        "    #Ramificacion\n",
        "    #Se generan los hijos\n",
        "    HIJOS = [{'s':x['s'], 'ci':CI(x['s'], COSTES)} for x in crear_hijos(nodo_prometedor, DIMENSION)]\n",
        "\n",
        "    #Revisamos la cota superior y nos quedamos con la mejor solucion si llegamos a una solucion final\n",
        "    NODO_FINAL = [x for x in HIJOS if len(x['s']) == DIMENSION]\n",
        "    if len(NODO_FINAL) > 0:\n",
        "      #print(\"\\n***********Soluciones:\", [x for x in HIJOS if len(x['s']) == DIMENSION])\n",
        "      if NODO_FINAL[0]['ci'] < CotaSup:\n",
        "        CotaSup = NODO_FINAL[0]['ci']\n",
        "        MEJOR_SOLUCION = NODO_FINAL\n",
        "\n",
        "    #Poda\n",
        "    HIJOS = [x for x in HIJOS if x['ci'] < CotaSup]\n",
        "\n",
        "    #Añadaimos los hijos\n",
        "    NODOS.extend(HIJOS)\n",
        "\n",
        "    #Eliminados el nodo ramificado\n",
        "    NODOS = [x for x in NODOS if x['s'] != nodo_prometedor]\n",
        "\n",
        "  print(\"La solución final es:\", MEJOR_SOLUCION, \"en \", iteracion, \"iteraciones\", \"para dimension: \", DIMENSION)\n",
        "\n",
        "ramificacion_y_poda(COSTES)"
      ],
      "metadata": {
        "colab": {
          "base_uri": "https://localhost:8080/",
          "height": 0
        },
        "id": "95gnAaMYXy21",
        "outputId": "201f5634-a878-4851-b0a5-979c2dd42a76"
      },
      "execution_count": 27,
      "outputs": [
        {
          "output_type": "stream",
          "name": "stdout",
          "text": [
            "La solución final es: [{'s': (1, 2, 0, 3), 'ci': 64}] en  10 iteraciones para dimension:  4\n"
          ]
        }
      ]
    }
  ]
}