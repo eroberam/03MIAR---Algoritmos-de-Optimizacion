{
  "nbformat": 4,
  "nbformat_minor": 0,
  "metadata": {
    "colab": {
      "provenance": [],
      "mount_file_id": "102bL4FzGyVMF4WzdRpE8M6s0Z8uraqLX",
      "authorship_tag": "ABX9TyM0eDpg6u61/cz7g86hguwY",
      "include_colab_link": true
    },
    "kernelspec": {
      "name": "python3",
      "display_name": "Python 3"
    },
    "language_info": {
      "name": "python"
    }
  },
  "cells": [
    {
      "cell_type": "markdown",
      "metadata": {
        "id": "view-in-github",
        "colab_type": "text"
      },
      "source": [
        "<a href=\"https://colab.research.google.com/github/eroberam/03MIAR---Algoritmos-de-Optimizacion/blob/main/AG1_Roberto_Alcaraz_Machado.ipynb\" target=\"_parent\"><img src=\"https://colab.research.google.com/assets/colab-badge.svg\" alt=\"Open In Colab\"/></a>"
      ]
    },
    {
      "cell_type": "markdown",
      "source": [
        "Nombre: Roberto Alcaraz Machado <br>\n",
        "Url: https://github.com/eroberam/03MIAR---Algoritmos-de-Optimizacion"
      ],
      "metadata": {
        "id": "XXbZflmQZedB"
      }
    },
    {
      "cell_type": "code",
      "execution_count": null,
      "metadata": {
        "colab": {
          "base_uri": "https://localhost:8080/"
        },
        "id": "udN6ZLAbViHV",
        "outputId": "21215ff5-2ce9-4273-a403-0bd02b4776fa"
      },
      "outputs": [
        {
          "output_type": "stream",
          "name": "stdout",
          "text": [
            "Lleva la ficha desde 1 hasta 3\n",
            "Lleva la ficha desde 1 hasta 2\n",
            "Lleva la ficha desde 3 hasta 2\n",
            "Lleva la ficha desde 1 hasta 3\n",
            "Lleva la ficha desde 2 hasta 1\n",
            "Lleva la ficha desde 2 hasta 3\n",
            "Lleva la ficha desde 1 hasta 3\n"
          ]
        }
      ],
      "source": [
        "#Torres de hanoi\n",
        "def Torres_Hanoi(N, desde, hasta):\n",
        "  #N = nº fichas\n",
        "  #desde = nº poste desde\n",
        "  #hasta = nº poste hasta\n",
        "\n",
        "  if N == 1:\n",
        "    print(\"Lleva la ficha desde \" + str(desde) + \" hasta \" + str(hasta))\n",
        "  else: \n",
        "    Torres_Hanoi(N-1, desde, 6-desde-hasta)\n",
        "    print(\"Lleva la ficha desde \" + str(desde) + \" hasta \" + str(hasta))\n",
        "    Torres_Hanoi(N-1, 6-desde-hasta, hasta)\n",
        "\n",
        "\n",
        "Torres_Hanoi(3, 1, 3)"
      ]
    },
    {
      "cell_type": "code",
      "source": [
        "def cambio_moneda(cantidad, sistema):\n",
        "  # cantidad a cambiar\n",
        "  # sistema: valor de las monedas diferentes, ordenado de mayor valor a menor\n",
        "  solucion = {}\n",
        "  for v in sistema:\n",
        "    monedas = cantidad // v\n",
        "    solucion[v] = monedas\n",
        "    cantidad -= monedas * v\n",
        "    if cantidad == 0:\n",
        "      return solucion\n",
        "\n",
        "cambio_moneda(123, [11, 5, 1])"
      ],
      "metadata": {
        "colab": {
          "base_uri": "https://localhost:8080/"
        },
        "id": "dOFUxxaEigzi",
        "outputId": "4ea2ff13-ee2a-4ee9-8bb9-7943f12228c6"
      },
      "execution_count": null,
      "outputs": [
        {
          "output_type": "execute_result",
          "data": {
            "text/plain": [
              "{11: 11, 5: 0, 1: 2}"
            ]
          },
          "metadata": {},
          "execution_count": 10
        }
      ]
    },
    {
      "cell_type": "code",
      "source": [
        "def es_prometedora(SOLUCION, etapa):\n",
        "  #print(SOLUCION)\n",
        "  #Si la solución tiene dos valores iguales no es valida => Dos reinas en la misma fila\n",
        "  for i in range(etapa+1):\n",
        "    #print(\"El valor \" + str(SOLUCION)[1]) + \" esta \" + str(SOLUCION.count(SOLUCION[i])) + \" veces \")\n",
        "    if SOLUCION.count(SOLUCION[i]) > 1: return False\n",
        "\n",
        "    #Verifica diagonales\n",
        "    for j in range(i+1, etapa +1):\n",
        "      #print(Comprobando diagonal de \" + str(i) + \" y \" + str(j))\n",
        "      if abs(i-j) == abs(SOLUCION[i]-SOLUCION[j]): return False\n",
        "  return True\n",
        "\n",
        "\n",
        "#Proceso principal de N-Reinas\n",
        "def reinas(N, solucion=[], etapa=0):\n",
        "  # N          - Tamaño del tablero\n",
        "  # solucion   - Solucion parcial\n",
        "  # etapa      - nº de reinas colocaldas en la solución parcial\n",
        "\n",
        "  #Inicializa la solución: una lista con ceros\n",
        "  if len(solucion) == 0:\n",
        "    solucion=[0 for i in range(N)]\n",
        "  \n",
        "  #Recorremos todas las reinas\n",
        "  for i in range(1, N+1):\n",
        "    solucion[etapa] = i\n",
        "\n",
        "    #print(solucion)\n",
        "    if es_prometedora(solucion, etapa):\n",
        "      if etapa == N-1:\n",
        "        print(\"\\n\\nLa solución es:\")\n",
        "        print(solucion)\n",
        "        #escribe_solucion(solucion)\n",
        "      else:\n",
        "        #print(\"Es prometedora\\n#############\")\n",
        "        reinas(N, solucion, etapa+1)\n",
        "    else:\n",
        "      #print(\"NO PROMETEDORA\\N###############\")\n",
        "      None\n",
        "    \n",
        "    solucion[etapa] = 0\n",
        "\n",
        "reinas(5)"
      ],
      "metadata": {
        "colab": {
          "base_uri": "https://localhost:8080/"
        },
        "id": "foWwQCN5uEH0",
        "outputId": "850a06bf-6283-4f15-f885-f646159aa7bf"
      },
      "execution_count": null,
      "outputs": [
        {
          "output_type": "stream",
          "name": "stdout",
          "text": [
            "\n",
            "\n",
            "La solución es:\n",
            "[1, 3, 5, 2, 4]\n",
            "\n",
            "\n",
            "La solución es:\n",
            "[1, 4, 2, 5, 3]\n",
            "\n",
            "\n",
            "La solución es:\n",
            "[2, 4, 1, 3, 5]\n",
            "\n",
            "\n",
            "La solución es:\n",
            "[2, 5, 3, 1, 4]\n",
            "\n",
            "\n",
            "La solución es:\n",
            "[3, 1, 4, 2, 5]\n",
            "\n",
            "\n",
            "La solución es:\n",
            "[3, 5, 2, 4, 1]\n",
            "\n",
            "\n",
            "La solución es:\n",
            "[4, 1, 3, 5, 2]\n",
            "\n",
            "\n",
            "La solución es:\n",
            "[4, 2, 5, 3, 1]\n",
            "\n",
            "\n",
            "La solución es:\n",
            "[5, 2, 4, 1, 3]\n",
            "\n",
            "\n",
            "La solución es:\n",
            "[5, 3, 1, 4, 2]\n"
          ]
        }
      ]
    },
    {
      "cell_type": "markdown",
      "source": [
        "### Encontrar dos puntos más cercanos"
      ],
      "metadata": {
        "id": "LYoQtrwB4_fV"
      }
    },
    {
      "cell_type": "code",
      "source": [
        "dis, pun = [], []\n",
        "puntos = [1, 20, 50, 61, 80, 53]\n",
        "for idx_1, punto_1 in enumerate(puntos):\n",
        "    for idx_2, punto_2 in enumerate(puntos):\n",
        "        if idx_1 != idx_2:\n",
        "            distancia = abs(punto_1 - punto_2)\n",
        "            try:\n",
        "                if dis[0] > distancia:\n",
        "                    dis.clear()\n",
        "                    pun.clear()\n",
        "                    dis.append(distancia)\n",
        "                    pun.append([punto_1, punto_2])\n",
        "            except:\n",
        "                dis.append(distancia)\n",
        "                pun.append([punto_1, punto_2])\n",
        "\n",
        "print(f'Distancia {dis} de los puntos más cercanos {pun}')\n"
      ],
      "metadata": {
        "colab": {
          "base_uri": "https://localhost:8080/"
        },
        "id": "rUg3bXnl485f",
        "outputId": "0f862ac2-0e75-494f-e4f8-dce0dc4b5b97"
      },
      "execution_count": 8,
      "outputs": [
        {
          "output_type": "stream",
          "name": "stdout",
          "text": [
            "Distancia [3] de los puntos más cercanos [[50, 53]]\n"
          ]
        }
      ]
    },
    {
      "cell_type": "markdown",
      "source": [
        "La complejidad es O(n^2) porque está anidando dos bucles for"
      ],
      "metadata": {
        "id": "wW4PSSAeDxlA"
      }
    },
    {
      "cell_type": "markdown",
      "source": [
        "Para una lista 2D"
      ],
      "metadata": {
        "id": "wbEyuVPKGNQi"
      }
    },
    {
      "cell_type": "code",
      "source": [
        "dis, pun = [], []\n",
        "puntos = [[1, 2], [15, 4], [5, 6], [7, 8], [9, 10], [11, 12]]\n",
        "for idx_1, punto_1 in enumerate(puntos):\n",
        "    for idx_2, punto_2 in enumerate(puntos):\n",
        "        if idx_1 != idx_2:\n",
        "            distancia = ((punto_1[0] - punto_2[0])**2 + (punto_1[1] - punto_2[1])**2)**0.5\n",
        "            try:\n",
        "                if dis[0] > distancia:\n",
        "                    dis.clear()\n",
        "                    pun.clear()\n",
        "                    dis.append(distancia)\n",
        "                    pun.append([punto_1, punto_2])\n",
        "            except:\n",
        "                dis.append(distancia)\n",
        "                pun.append([punto_1, punto_2])\n",
        "\n",
        "print(f'Los puntos más cercanos {pun}')\n"
      ],
      "metadata": {
        "colab": {
          "base_uri": "https://localhost:8080/"
        },
        "id": "ubf5LiloGOsT",
        "outputId": "397e8973-30d8-4a29-bc40-2498fd863634"
      },
      "execution_count": 9,
      "outputs": [
        {
          "output_type": "stream",
          "name": "stdout",
          "text": [
            "Los puntos más cercanos [[[5, 6], [7, 8]]]\n"
          ]
        }
      ]
    }
  ]
}